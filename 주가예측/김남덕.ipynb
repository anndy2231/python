{
 "cells": [
  {
   "cell_type": "code",
   "execution_count": null,
   "metadata": {},
   "outputs": [],
   "source": [
    "import urllib.parse # url 인코딩 할 때 사용\n",
    "import pandas as pd"
   ]
  },
  {
   "cell_type": "code",
   "execution_count": null,
   "metadata": {},
   "outputs": [],
   "source": [
    "MARKET_CODE_DICT = {\n",
    "    'kospi': 'stockMkt',\n",
    "    'kosdaq': 'kosdaqMkt',\n",
    "    'konex': 'konexMkt'\n",
    "}\n",
    "DOWNLOAD_URL = 'https://kind.krx.co.kr/corpgeneral/corpList.do'\n",
    "\n",
    "def zeroFill(columnValue):\n",
    "\n",
    "    columnValue = str(columnValue)\n",
    "\n",
    "    outValue = columnValue.zfill(6) # zfill : 빈 자리는 0으로 채워라\n",
    "\n",
    "    return outValue\n",
    "\n",
    "def get_stock_codes(market=None, delisted=False):\n",
    "\n",
    "    params = {'method': 'download'} # url 구성 (~?method=downroad 대충 이런식) 맞춰주려고\n",
    "\n",
    "    if market.lower() in MARKET_CODE_DICT:\n",
    "\n",
    "        ## marketType 키 추가\n",
    "\n",
    "        params['marketType'] = MARKET_CODE_DICT[market]\n",
    "\n",
    "        print(market.lower()+\" market key is exist\")\n",
    "\n",
    "    else:\n",
    "\n",
    "        print(\"invalid market\")\n",
    "\n",
    "    # make url  key=value & key = value\n",
    "\n",
    "    params_string = urllib.parse.urlencode(params)\n",
    "\n",
    "    request_url = DOWNLOAD_URL+\"?\"+params_string # 쿼리 스트링\n",
    "\n",
    "    df = pd.read_html(request_url)[0]\n",
    "\n",
    "    df[\"종목코드\"] = df.종목코드.apply(zeroFill)\n",
    "#     df[\"종목코드\"] = df.종목코드.map('{:06d}'.format) # 동일 결과\n",
    " \n",
    "    return df\n",
    "\n",
    "stocks = get_stock_codes('kospi')\n",
    "\n",
    "stock_code = stocks.iloc[0]['종목코드']\n",
    "stock_name = stocks.iloc[0]['회사명']\n",
    "print(stock_name)\n",
    "print(stock_code)\n",
    "\n",
    "comName = input(\"회사명 : \")\n",
    "result = stocks[stocks['회사명']==comName].iloc[0]['종목코드']\n",
    "result"
   ]
  },
  {
   "cell_type": "code",
   "execution_count": null,
   "metadata": {},
   "outputs": [],
   "source": []
  },
  {
   "cell_type": "code",
   "execution_count": null,
   "metadata": {},
   "outputs": [],
   "source": []
  },
  {
   "cell_type": "code",
   "execution_count": null,
   "metadata": {},
   "outputs": [],
   "source": []
  },
  {
   "cell_type": "code",
   "execution_count": null,
   "metadata": {},
   "outputs": [],
   "source": []
  }
 ],
 "metadata": {
  "kernelspec": {
   "display_name": "Python 3",
   "language": "python",
   "name": "python3"
  },
  "language_info": {
   "codemirror_mode": {
    "name": "ipython",
    "version": 3
   },
   "file_extension": ".py",
   "mimetype": "text/x-python",
   "name": "python",
   "nbconvert_exporter": "python",
   "pygments_lexer": "ipython3",
   "version": "3.8.5"
  }
 },
 "nbformat": 4,
 "nbformat_minor": 4
}
