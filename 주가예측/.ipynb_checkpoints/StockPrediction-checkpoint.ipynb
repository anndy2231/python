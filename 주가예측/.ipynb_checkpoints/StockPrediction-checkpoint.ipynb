{
 "cells": [
  {
   "cell_type": "markdown",
   "metadata": {},
   "source": [
    "# 주린이의 주가 예측"
   ]
  },
  {
   "cell_type": "code",
   "execution_count": 1,
   "metadata": {},
   "outputs": [],
   "source": [
    "import pandas as pd\n",
    "import numpy as np\n",
    "import urllib.parse\n",
    "import matplotlib.pyplot as plt\n",
    "import seaborn as sns\n",
    "from datetime import date, timedelta\n",
    "import FinanceDataReader as fdr\n",
    "from matplotlib import font_manager, rc\n",
    "from scipy import stats\n",
    "import plotly.express as px\n",
    "import os\n",
    "from selenium import webdriver\n",
    "import bs4\n",
    "%matplotlib inline"
   ]
  },
  {
   "cell_type": "code",
   "execution_count": 2,
   "metadata": {},
   "outputs": [],
   "source": [
    "# 투자심리선이란 최근 2주(10일) 동안 주가가 전일과 대비해서 상승한 일수와 하락한 일수를 계산하여 \n",
    "# 상승 일수가 며칠이었는가에 대한 비율을 나타낸다. \n",
    "# 투자심리도가 75% 이상이면 과열상태로 판단하여 매도시점이 되고,\n",
    "# 반대로 25% 이하일 경우 매수시점이 된다."
   ]
  },
  {
   "cell_type": "code",
   "execution_count": 3,
   "metadata": {},
   "outputs": [],
   "source": [
    "# 안전하게 코스피 시가총액 상위 10위 종목만 선정\n",
    "\n",
    "# 웹브라우저 설정 및 브라우저 팝업\n",
    "options = webdriver.ChromeOptions()\n",
    "# driverLoc = \"C:/Users/김남덕/Desktop/KOPO/김효관/stddev/addon/chromedriver/chromedriver.exe\"\n",
    "driverLoc = \"C:/Users/kopo/Desktop/KND/김효관/addon/chromedriver/chromedriver.exe\"\n",
    "driver = webdriver.Chrome(executable_path=driverLoc, options=options)\n",
    "\n",
    "# 웹페이지 파싱될때까지 최대 3초 기다림\n",
    "driver.implicitly_wait(3)\n",
    "\n",
    "# # 브라우저 열기\n",
    "targetUrl = \"https://finance.naver.com/sise/\"\n",
    "driver.get(targetUrl)\n",
    "\n",
    "# 페이지 url 및 소스 가져오기\n",
    "finalUrl = driver.current_url\n",
    "pgSource = driver.page_source\n",
    "\n",
    "# BS4로 웹크롤링\n",
    "bsObj = bs4.BeautifulSoup(pgSource, \"html.parser\")\n",
    "findAttr = bsObj.find(name = \"table\", attrs={\"id\":\"siselist_tab_7\"})\n",
    "findPart = findAttr.find_all(name=\"a\")\n",
    "\n",
    "# 리스트에 종목 저장\n",
    "stockNameList = []\n",
    "for i in range(0, len(findPart)):\n",
    "    stockNameList.append(findPart[i].text)"
   ]
  },
  {
   "cell_type": "code",
   "execution_count": 4,
   "metadata": {},
   "outputs": [
    {
     "data": {
      "text/plain": [
       "['삼성전자',\n",
       " 'SK하이닉스',\n",
       " 'NAVER',\n",
       " '카카오',\n",
       " '삼성전자우',\n",
       " 'LG화학',\n",
       " '삼성바이오로직스',\n",
       " '현대차',\n",
       " '삼성SDI',\n",
       " '셀트리온']"
      ]
     },
     "execution_count": 4,
     "metadata": {},
     "output_type": "execute_result"
    }
   ],
   "source": [
    "stockNameList"
   ]
  },
  {
   "cell_type": "code",
   "execution_count": 20,
   "metadata": {},
   "outputs": [],
   "source": [
    "# 종목 코드 찾기\n",
    "kospi = fdr.StockListing('kospi')"
   ]
  },
  {
   "cell_type": "code",
   "execution_count": 21,
   "metadata": {},
   "outputs": [],
   "source": [
    "# 추출된 종목 코드를 리스트에 담기\n",
    "stockCodeList = []\n",
    "for i in range(len(stockNameList)):\n",
    "    name = kospi[kospi['Name'] == stockNameList[i]]\n",
    "    stockCode = name.iloc[0][0]\n",
    "    stockCodeList.append(stockCode)"
   ]
  },
  {
   "cell_type": "code",
   "execution_count": 74,
   "metadata": {},
   "outputs": [
    {
     "data": {
      "text/plain": [
       "['005930',\n",
       " '000660',\n",
       " '035420',\n",
       " '035720',\n",
       " '005935',\n",
       " '051910',\n",
       " '207940',\n",
       " '005380',\n",
       " '006400',\n",
       " '068270']"
      ]
     },
     "execution_count": 74,
     "metadata": {},
     "output_type": "execute_result"
    }
   ],
   "source": [
    "stockCodeList"
   ]
  },
  {
   "cell_type": "code",
   "execution_count": 147,
   "metadata": {},
   "outputs": [],
   "source": [
    "# 종료일\n",
    "endDate = date.today()\n",
    "\n",
    "# 시작일\n",
    "beginDate = endDate - timedelta(days=90)"
   ]
  },
  {
   "cell_type": "code",
   "execution_count": 210,
   "metadata": {},
   "outputs": [],
   "source": [
    "# 지난 3개월 동안의 주식 정보 가져오기\n",
    "def getStockData(stockCode, beginDate, endDate):\n",
    "    if stockCode is None:\n",
    "        print(\"주식 코드 오류\")\n",
    "        return None\n",
    "    df = fdr.DataReader(stockCode, beginDate, endDate)\n",
    "    return df"
   ]
  },
  {
   "cell_type": "code",
   "execution_count": 211,
   "metadata": {},
   "outputs": [],
   "source": [
    "changeList = [] # 변동률(Change) 리스트\n",
    "investLineList = [] # 투자 심리선 리스트\n",
    "tradingDays = 10 # 2주(10일) 기간 세팅\n",
    "df['investLine'] = 0"
   ]
  },
  {
   "cell_type": "code",
   "execution_count": 212,
   "metadata": {},
   "outputs": [],
   "source": [
    "def investLineMethod(stockData):\n",
    "    for i in range(len(stockData)):\n",
    "        changeList.append(list(stockData.Change[i-tradingDays:i])) # 투자 심리선 지표를 만들기 위해 2주(10일)간의 변동률(Change) 정보를 10개씩 리스트로 나눠 \n",
    "    for changeList2 in changeList: # 10개씩 담긴 리스트안에서 \n",
    "        if not changeList2: # 만약 값이 없다면\n",
    "            investLineList.append(0) # 0으로 채운다\n",
    "    else:\n",
    "        plusList = [] # 수익이 나온 일자를 저장할 리스트 생성\n",
    "        for changeVal in changeList2: \n",
    "            if changeVal > 0: # 수익이 나왔다면 \n",
    "                plusList.append(changeVal) # 리스트에 저장\n",
    "        plusVal = len(plusList) # 투자심리선 공식 = 10일동안 상승일 수 / 10일 * 100\n",
    "        changeVal = len(changeList2)\n",
    "        investLine = plusVal / changeVal * 100\n",
    "        investLineList.append(investLine) # 투자 심리선에 저장\n",
    "    stockData['investLine'] = investLineList\n",
    "    return stockData.investLine"
   ]
  },
  {
   "cell_type": "code",
   "execution_count": null,
   "metadata": {},
   "outputs": [],
   "source": []
  },
  {
   "cell_type": "code",
   "execution_count": 215,
   "metadata": {},
   "outputs": [],
   "source": [
    "for code in stockCodeList:\n",
    "    std = getStockData(code, beginDate, endDate)    "
   ]
  },
  {
   "cell_type": "code",
   "execution_count": 192,
   "metadata": {},
   "outputs": [],
   "source": []
  },
  {
   "cell_type": "code",
   "execution_count": 194,
   "metadata": {},
   "outputs": [
    {
     "data": {
      "text/plain": [
       "63"
      ]
     },
     "execution_count": 194,
     "metadata": {},
     "output_type": "execute_result"
    }
   ],
   "source": []
  },
  {
   "cell_type": "code",
   "execution_count": 107,
   "metadata": {},
   "outputs": [],
   "source": []
  },
  {
   "cell_type": "code",
   "execution_count": 172,
   "metadata": {},
   "outputs": [],
   "source": [
    "for i in range(len(df)):\n",
    "    changeList.append(list(df.Change[i-tradingDays:i])) # 투자 심리선 지표를 만들기 위해 2주(10일)간의 변동률(Change) 정보를 10개씩 리스트로 나눠 담는다\n",
    "for changeList2 in changeList: # 10개씩 담긴 리스트안에서 \n",
    "    if not changeList2: # 만약 값이 없다면\n",
    "        investLineList.append(0) # 0으로 채운다\n",
    "    else:\n",
    "        plusList = [] # 수익이 나온 일자를 저장할 리스트 생성\n",
    "        for changeVal in changeList2: \n",
    "            if changeVal > 0: # 수익이 나왔다면 \n",
    "                plusList.append(changeVal) # 리스트에 저장\n",
    "        plusVal = len(plusList) # 투자심리선 공식 = 10일동안 상승일 수 / 10일 * 100\n",
    "        changeVal = len(changeList2)\n",
    "        investLine = plusVal / changeVal * 100\n",
    "        investLineList.append(investLine) # 투자 심리선에 저장"
   ]
  },
  {
   "cell_type": "code",
   "execution_count": 173,
   "metadata": {},
   "outputs": [],
   "source": [
    "df['investLine'] = investLineList"
   ]
  },
  {
   "cell_type": "code",
   "execution_count": 181,
   "metadata": {},
   "outputs": [],
   "source": [
    "a = df.investLine"
   ]
  },
  {
   "cell_type": "code",
   "execution_count": null,
   "metadata": {},
   "outputs": [],
   "source": []
  },
  {
   "cell_type": "code",
   "execution_count": null,
   "metadata": {},
   "outputs": [],
   "source": []
  },
  {
   "cell_type": "code",
   "execution_count": null,
   "metadata": {},
   "outputs": [],
   "source": []
  },
  {
   "cell_type": "code",
   "execution_count": null,
   "metadata": {},
   "outputs": [],
   "source": []
  },
  {
   "cell_type": "code",
   "execution_count": 21,
   "metadata": {},
   "outputs": [
    {
     "ename": "NameError",
     "evalue": "name 'investLineMethod' is not defined",
     "output_type": "error",
     "traceback": [
      "\u001b[1;31m---------------------------------------------------------------------------\u001b[0m",
      "\u001b[1;31mNameError\u001b[0m                                 Traceback (most recent call last)",
      "\u001b[1;32m<ipython-input-21-2af0bc1d01cd>\u001b[0m in \u001b[0;36m<module>\u001b[1;34m\u001b[0m\n\u001b[0;32m      1\u001b[0m \u001b[1;32mfor\u001b[0m \u001b[0mcode\u001b[0m \u001b[1;32min\u001b[0m \u001b[0mstockCodeList\u001b[0m\u001b[1;33m:\u001b[0m\u001b[1;33m\u001b[0m\u001b[1;33m\u001b[0m\u001b[0m\n\u001b[0;32m      2\u001b[0m     \u001b[0mdata\u001b[0m \u001b[1;33m=\u001b[0m \u001b[0mgetStockData\u001b[0m\u001b[1;33m(\u001b[0m\u001b[0mcode\u001b[0m\u001b[1;33m,\u001b[0m \u001b[0mbeginDate\u001b[0m\u001b[1;33m,\u001b[0m \u001b[0mendDate\u001b[0m\u001b[1;33m)\u001b[0m\u001b[1;33m\u001b[0m\u001b[1;33m\u001b[0m\u001b[0m\n\u001b[1;32m----> 3\u001b[1;33m     \u001b[0mmadf\u001b[0m \u001b[1;33m=\u001b[0m \u001b[0minvestLineMethod\u001b[0m\u001b[1;33m(\u001b[0m\u001b[0mdata\u001b[0m\u001b[1;33m)\u001b[0m\u001b[1;33m\u001b[0m\u001b[1;33m\u001b[0m\u001b[0m\n\u001b[0m\u001b[0;32m      4\u001b[0m     \u001b[1;31m#print(i,\" \",qc.get_codename_by_codenum(i),madf)\u001b[0m\u001b[1;33m\u001b[0m\u001b[1;33m\u001b[0m\u001b[1;33m\u001b[0m\u001b[0m\n\u001b[0;32m      5\u001b[0m     \u001b[1;32mif\u001b[0m \u001b[0mmadf\u001b[0m \u001b[1;32mis\u001b[0m \u001b[1;32mnot\u001b[0m \u001b[1;32mNone\u001b[0m\u001b[1;33m:\u001b[0m \u001b[1;31m# 마지막 ** 기간의 추세 확인\u001b[0m\u001b[1;33m\u001b[0m\u001b[1;33m\u001b[0m\u001b[0m\n",
      "\u001b[1;31mNameError\u001b[0m: name 'investLineMethod' is not defined"
     ]
    }
   ],
   "source": [
    "for code in stockCodeList:\n",
    "    data = getStockData(code, beginDate, endDate)\n",
    "    madf = investLineMethod(data)\n",
    "    #print(i,\" \",qc.get_codename_by_codenum(i),madf)\n",
    "    if madf is not None: # 마지막 ** 기간의 추세 확인\n",
    "        tempX = list(range(0,last_period))\n",
    "        tempY = madf[-(last_period)-1:-1]\n",
    "        try:\n",
    "            grad, intercept, r_square, p_value, std_err = stats.linregress(tempX, tempY)\n",
    "            #print(grad, intercept, r_square*r_square, p_value, std_err) # p_value <= 05, r^2 >=0..64\n",
    "            if grad >= 0 :\n",
    "                tempText = stockNameList\n",
    "                tempText += ' grad: %4.2f, R^2: %4.2f, p_value: %4.2f' % (grad, r_square*r_square, p_value)\n",
    "\n",
    "                fig = px.line(x=tempX, y=tempY, labels={'x': 'days', 'y': 'MA diff'}, title=tempText)\n",
    "                tempToday = str(date.today())\n",
    "                tempToday += \" 회귀\"\n",
    "                if not os.path.exists(tempToday):\n",
    "                    os.mkdir(tempToday)\n",
    "                tempStr = tempToday+\"/\"+stockNameList + \".png\"\n",
    "                fig.write_image(tempStr)\n",
    "\n",
    "        except Exception as e:\n",
    "            print(\"Error Occurs while trying to get lineregress X:\", tempX)\n",
    "            print(\"Error Occurs while trying to get lineregress Y:\", tempY)\n",
    "            print(\"Exception e :\",e)\n",
    "    else:\n",
    "        print(stockNameList,\" \", \"ma diff gradient less than zero\")"
   ]
  },
  {
   "cell_type": "code",
   "execution_count": null,
   "metadata": {},
   "outputs": [],
   "source": []
  },
  {
   "cell_type": "code",
   "execution_count": null,
   "metadata": {},
   "outputs": [],
   "source": []
  },
  {
   "cell_type": "code",
   "execution_count": null,
   "metadata": {},
   "outputs": [],
   "source": []
  },
  {
   "cell_type": "code",
   "execution_count": null,
   "metadata": {},
   "outputs": [],
   "source": []
  },
  {
   "cell_type": "code",
   "execution_count": null,
   "metadata": {},
   "outputs": [],
   "source": []
  },
  {
   "cell_type": "code",
   "execution_count": null,
   "metadata": {},
   "outputs": [],
   "source": []
  },
  {
   "cell_type": "code",
   "execution_count": null,
   "metadata": {},
   "outputs": [],
   "source": []
  },
  {
   "cell_type": "code",
   "execution_count": null,
   "metadata": {},
   "outputs": [],
   "source": []
  },
  {
   "cell_type": "code",
   "execution_count": null,
   "metadata": {},
   "outputs": [],
   "source": []
  },
  {
   "cell_type": "code",
   "execution_count": null,
   "metadata": {},
   "outputs": [],
   "source": []
  },
  {
   "cell_type": "code",
   "execution_count": null,
   "metadata": {},
   "outputs": [],
   "source": []
  },
  {
   "cell_type": "code",
   "execution_count": null,
   "metadata": {},
   "outputs": [],
   "source": []
  },
  {
   "cell_type": "code",
   "execution_count": null,
   "metadata": {},
   "outputs": [],
   "source": []
  },
  {
   "cell_type": "code",
   "execution_count": null,
   "metadata": {},
   "outputs": [],
   "source": []
  }
 ],
 "metadata": {
  "kernelspec": {
   "display_name": "Python 3",
   "language": "python",
   "name": "python3"
  },
  "language_info": {
   "codemirror_mode": {
    "name": "ipython",
    "version": 3
   },
   "file_extension": ".py",
   "mimetype": "text/x-python",
   "name": "python",
   "nbconvert_exporter": "python",
   "pygments_lexer": "ipython3",
   "version": "3.8.3"
  }
 },
 "nbformat": 4,
 "nbformat_minor": 4
}
