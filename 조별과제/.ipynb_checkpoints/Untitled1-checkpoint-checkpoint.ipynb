{
 "cells": [
  {
   "cell_type": "code",
   "execution_count": 27,
   "metadata": {},
   "outputs": [],
   "source": [
    "from isoweek import Week\n",
    "\n",
    "def weekFunction2(yearweek,postweek):\n",
    "    \n",
    "    # 들어온 값을 인덱스 처리하기 위해 문자열로 형변환\n",
    "    # total이라는 변수에 주차끼리 더한 값을 넣어준다\n",
    "    # 입력받은 연도의 주차를 정수형으로 변환하고 전체길이를 lenyear로 정의한다.\n",
    "    year = str(yearweek)[0:4]\n",
    "    week = str(yearweek)[4:]\n",
    "    total = int(week) + int(postweek)\n",
    "    year = int(year)\n",
    "    lenyear = Week.last_week_of_year(year).week\n",
    "    \n",
    "    # total이 lenyear보다 작으면 단순 합 계산  \n",
    "    \n",
    "    if (total < lenyear) :\n",
    "        result = int(yearweek) + int(postweek)\n",
    "        result = str(result)\n",
    "        return result\n",
    "    \n",
    "\n",
    "    \n",
    "    # total이 lenyear와 같으면 다음년도 01주차로 정의한다.\n",
    "    \n",
    "    elif (total == lenyear):\n",
    "        year = int(year) + 1 \n",
    "        week = \"01\" \n",
    "        result = str(year) + str(week)\n",
    "        return result\n",
    "\n",
    "    # total이 lenyear보다 크면, lenyear보다 작아질 때 까지 반복 계산\n",
    "    \n",
    "    else:\n",
    "        while(total > lenyear):\n",
    "            year = int(year) + 1  \n",
    "            total = total - Week.last_week_of_year(year).week \n",
    "            lenyear = Week.last_week_of_year(year).week\n",
    "                \n",
    "            #  total이 lenyear와 같으면 다음년도 01주차로 정의한다.   \n",
    "            if(total==lenyear):   \n",
    "                year = int(year) + 1\n",
    "                week = \"01\"\n",
    "                result = str(year) + str(week)\n",
    "                return result\n",
    "            \n",
    "            #  total이 lenyear보다 작으면 단순 합 계산 \n",
    "            if(total<lenyear):   \n",
    "                if(total<10):\n",
    "                    result = str(year) +\"0\"+ str(total) # total이 한 자리의 정수일 경우, 앞에 0을 붙여 출력한다.   \n",
    "                    return result\n",
    "                result = str(year) + str(total)   \n",
    "                return result"
   ]
  },
  {
   "cell_type": "code",
   "execution_count": 28,
   "metadata": {},
   "outputs": [
    {
     "data": {
      "text/plain": [
       "'201806'"
      ]
     },
     "execution_count": 28,
     "metadata": {},
     "output_type": "execute_result"
    }
   ],
   "source": [
    "weekFunction2(201803,3)"
   ]
  },
  {
   "cell_type": "code",
   "execution_count": null,
   "metadata": {},
   "outputs": [],
   "source": []
  }
 ],
 "metadata": {
  "kernelspec": {
   "display_name": "Python 3",
   "language": "python",
   "name": "python3"
  },
  "language_info": {
   "codemirror_mode": {
    "name": "ipython",
    "version": 3
   },
   "file_extension": ".py",
   "mimetype": "text/x-python",
   "name": "python",
   "nbconvert_exporter": "python",
   "pygments_lexer": "ipython3",
   "version": "3.8.5"
  }
 },
 "nbformat": 4,
 "nbformat_minor": 4
}
