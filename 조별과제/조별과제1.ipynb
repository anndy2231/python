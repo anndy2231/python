{
 "cells": [
  {
   "cell_type": "code",
   "execution_count": 43,
   "metadata": {},
   "outputs": [],
   "source": [
    "from isoweek import Week\n",
    "\n",
    "def weekFunction(yearweek, preweek):\n",
    "    \n",
    "    #들어온 값을 인덱스 처리하기 위해 문자열로 형변환\n",
    "    #diff라는 변수에 주차끼리 뺀 값을 넣어준다\n",
    "    \n",
    "    year = str(yearweek)[0:4]\n",
    "    week = str(yearweek)[4:]\n",
    "    diff = int(week) - int(preweek)\n",
    "    \n",
    "    #diff가 양수일경우 같은 년도 내에서 주차끼리만 단순 뺄셈 \n",
    "    \n",
    "    if (diff > 0) :\n",
    "        result = int(yearweek) - int(preweek)\n",
    "        result = str(result)\n",
    "        return result\n",
    "    \n",
    "    #diff가 0일때 전년도로 마지막 주차로 넘어가기 위한 과정\n",
    "    \n",
    "    elif (diff == 0):\n",
    "        year = int(year) - 1   #년도는 전년도로 넘어간다\n",
    "        week = Week.last_week_of_year(year).week #주차는 넘어간 년도의 마지막 주차가 된다\n",
    "        result = str(year) + str(week)  #두 값을 붙여주기 위해 문자열로 형변환\n",
    "        return result\n",
    "    \n",
    "    #diff가 음수일때 계속해서 전년도로 넘어간다\n",
    "    \n",
    "    else:\n",
    "        while(diff <0):\n",
    "            year = int(year) - 1  #년도는 전년도로 넘어간다\n",
    "            diff = diff + Week.last_week_of_year(year).week #주차는 넘어간 년도의 마지막 주차에서 diff만큼 빠진다\n",
    "    \n",
    "            if(diff<0):\n",
    "                continue  #diff가 여전히 음수일 경우 위에 과정을 반복해준다 \n",
    "                \n",
    "            if(diff==0):   #diff가 다시 0이 되는 경우 전년도 마지막 주차로 넘어간다\n",
    "                year = int(year) - 1\n",
    "                week = Week.last_week_of_year(year).week\n",
    "                result = str(year) + str(week)\n",
    "                return result\n",
    "            \n",
    "            if(diff>0):   #diff가 다시 양수가 되면 단순계산 해준다\n",
    "                if(diff<10):\n",
    "                    result = str(year) +\"0\"+ str(diff)   #주차가 한자리로 나오지 않게 0을 붙여준다\n",
    "                    return result\n",
    "                result = str(year) + str(diff)   \n",
    "                return result"
   ]
  },
  {
   "cell_type": "code",
   "execution_count": 44,
   "metadata": {},
   "outputs": [
    {
     "data": {
      "text/plain": [
       "'201824'"
      ]
     },
     "execution_count": 44,
     "metadata": {},
     "output_type": "execute_result"
    }
   ],
   "source": [
    "weekFunction(202020,100)"
   ]
  },
  {
   "cell_type": "code",
   "execution_count": 25,
   "metadata": {},
   "outputs": [],
   "source": [
    "from fintechlab import CommonFunction as cf"
   ]
  },
  {
   "cell_type": "code",
   "execution_count": 26,
   "metadata": {},
   "outputs": [
    {
     "data": {
      "text/plain": [
       "'201805'"
      ]
     },
     "execution_count": 26,
     "metadata": {},
     "output_type": "execute_result"
    }
   ],
   "source": [
    "cf.preWeek(\"202001\",\"100\")"
   ]
  }
 ],
 "metadata": {
  "kernelspec": {
   "display_name": "Python 3",
   "language": "python",
   "name": "python3"
  },
  "language_info": {
   "codemirror_mode": {
    "name": "ipython",
    "version": 3
   },
   "file_extension": ".py",
   "mimetype": "text/x-python",
   "name": "python",
   "nbconvert_exporter": "python",
   "pygments_lexer": "ipython3",
   "version": "3.8.3"
  }
 },
 "nbformat": 4,
 "nbformat_minor": 4
}
